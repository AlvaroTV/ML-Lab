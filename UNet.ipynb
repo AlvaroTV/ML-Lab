{
 "cells": [
  {
   "cell_type": "markdown",
   "id": "fe37e587",
   "metadata": {},
   "source": [
    "# Importing the Libraries"
   ]
  },
  {
   "cell_type": "code",
   "execution_count": 1,
   "id": "88872cc8",
   "metadata": {},
   "outputs": [],
   "source": [
    "import torch\n",
    "import torch.nn as nn\n",
    "from torchvision import transforms"
   ]
  },
  {
   "cell_type": "markdown",
   "id": "73692776",
   "metadata": {},
   "source": [
    "# UNet from Scratch"
   ]
  },
  {
   "cell_type": "markdown",
   "id": "688b08a8",
   "metadata": {},
   "source": [
    "UNet is a convolutional nerual network (CNN) architecture commonly used for semantic segmentation tasks, particularly in the field of medical image analysis. It was introduced  by Olaf Ronneberger, Philipp Fischer, and Thomas Brox in their 2015 research paper titled \"U-Net: Convolutional Networks for Biomedical Image Segmentation.\""
   ]
  },
  {
   "cell_type": "code",
   "execution_count": null,
   "id": "bc05ef0a",
   "metadata": {},
   "outputs": [],
   "source": []
  },
  {
   "cell_type": "code",
   "execution_count": null,
   "id": "0a0c549a",
   "metadata": {},
   "outputs": [],
   "source": []
  },
  {
   "cell_type": "code",
   "execution_count": null,
   "id": "88a8e1ae",
   "metadata": {},
   "outputs": [],
   "source": []
  },
  {
   "cell_type": "code",
   "execution_count": null,
   "id": "dacc301c",
   "metadata": {},
   "outputs": [],
   "source": []
  },
  {
   "cell_type": "code",
   "execution_count": null,
   "id": "a13a3db8",
   "metadata": {},
   "outputs": [],
   "source": []
  },
  {
   "cell_type": "code",
   "execution_count": null,
   "id": "62cb8961",
   "metadata": {},
   "outputs": [],
   "source": []
  }
 ],
 "metadata": {
  "kernelspec": {
   "display_name": "Python 3 (ipykernel)",
   "language": "python",
   "name": "python3"
  },
  "language_info": {
   "codemirror_mode": {
    "name": "ipython",
    "version": 3
   },
   "file_extension": ".py",
   "mimetype": "text/x-python",
   "name": "python",
   "nbconvert_exporter": "python",
   "pygments_lexer": "ipython3",
   "version": "3.10.9"
  }
 },
 "nbformat": 4,
 "nbformat_minor": 5
}
