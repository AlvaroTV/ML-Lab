{
 "cells": [
  {
   "cell_type": "markdown",
   "id": "1f042c07",
   "metadata": {},
   "source": [
    "# Importing the Libraries"
   ]
  },
  {
   "cell_type": "code",
   "execution_count": 1,
   "id": "3196413b",
   "metadata": {},
   "outputs": [],
   "source": [
    "import torch\n",
    "import torch.nn as nn\n",
    "from torchvision import transforms"
   ]
  },
  {
   "cell_type": "markdown",
   "id": "5a3ec23f",
   "metadata": {},
   "source": [
    "# UNet from Scratch"
   ]
  },
  {
   "cell_type": "markdown",
   "id": "7fcca6c0",
   "metadata": {},
   "source": [
    "UNet is a convolutional nerual network (CNN) architecture commonly used for semantic segmentation tasks, particularly in the field of medical image analysis. It was introduced  by Olaf Ronneberger, Philipp Fischer, and Thomas Brox in their 2015 research paper titled \"U-Net: Convolutional Networks for Biomedical Image Segmentation.\"  \n",
    "\n",
    "The UNet architecture is characterized by its U-shape design, consisting of a contracting path (**encoder**) followed by an expansive path (**decoder**). The **contracting** path captures context and reduces spatial dimensions through a series of convolutional and pooling layers, while the **expansive** path performs **upsampling** to recover the spatial resolution and generate segmentation masks."
   ]
  },
  {
   "cell_type": "markdown",
   "id": "f2b892a8",
   "metadata": {},
   "source": [
    "![U-NET Architecture](https://lmb.informatik.uni-freiburg.de/people/ronneber/u-net/u-net-architecture.png)"
   ]
  },
  {
   "cell_type": "code",
   "execution_count": null,
   "id": "fe1729e1",
   "metadata": {},
   "outputs": [],
   "source": []
  },
  {
   "cell_type": "code",
   "execution_count": null,
   "id": "c618069f",
   "metadata": {},
   "outputs": [],
   "source": []
  },
  {
   "cell_type": "code",
   "execution_count": null,
   "id": "4b984e39",
   "metadata": {},
   "outputs": [],
   "source": []
  },
  {
   "cell_type": "code",
   "execution_count": null,
   "id": "c8abb79b",
   "metadata": {},
   "outputs": [],
   "source": []
  },
  {
   "cell_type": "code",
   "execution_count": null,
   "id": "cba672c7",
   "metadata": {},
   "outputs": [],
   "source": []
  }
 ],
 "metadata": {
  "kernelspec": {
   "display_name": "Python 3 (ipykernel)",
   "language": "python",
   "name": "python3"
  },
  "language_info": {
   "codemirror_mode": {
    "name": "ipython",
    "version": 3
   },
   "file_extension": ".py",
   "mimetype": "text/x-python",
   "name": "python",
   "nbconvert_exporter": "python",
   "pygments_lexer": "ipython3",
   "version": "3.10.9"
  }
 },
 "nbformat": 4,
 "nbformat_minor": 5
}
