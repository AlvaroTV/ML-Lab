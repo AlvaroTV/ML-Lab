{
 "cells": [
  {
   "cell_type": "markdown",
   "id": "bb277ea6",
   "metadata": {},
   "source": [
    "# Importing the Libraries"
   ]
  },
  {
   "cell_type": "code",
   "execution_count": 1,
   "id": "2dd03d01",
   "metadata": {},
   "outputs": [],
   "source": [
    "import torch\n",
    "import torch.nn as nn\n",
    "from torchvision import transforms"
   ]
  },
  {
   "cell_type": "markdown",
   "id": "89debb4d",
   "metadata": {},
   "source": [
    "# UNet from Scratch"
   ]
  },
  {
   "cell_type": "markdown",
   "id": "c9b835f3",
   "metadata": {},
   "source": [
    "UNet is a convolutional nerual network (CNN) architecture commonly used for semantic segmentation tasks, particularly in the field of medical image analysis. It was introduced  by Olaf Ronneberger, Philipp Fischer, and Thomas Brox in their 2015 research paper titled \"U-Net: Convolutional Networks for Biomedical Image Segmentation.\"  \n",
    "\n",
    "The UNet architecture is characterized by its U-shape design, consisting of a contracting path (**encoder**) followed by an expansive path (**decoder**). The **contracting** path captures context and reduces spatial dimensions through a series of convolutional and pooling layers, while the **expansive** path performs **upsampling** to recover the spatial resolution and generate segmentation masks."
   ]
  },
  {
   "cell_type": "code",
   "execution_count": null,
   "id": "36a61fc5",
   "metadata": {},
   "outputs": [],
   "source": []
  },
  {
   "cell_type": "code",
   "execution_count": null,
   "id": "c4b690b3",
   "metadata": {},
   "outputs": [],
   "source": []
  },
  {
   "cell_type": "code",
   "execution_count": null,
   "id": "2a4c8197",
   "metadata": {},
   "outputs": [],
   "source": []
  },
  {
   "cell_type": "code",
   "execution_count": null,
   "id": "2aba75a6",
   "metadata": {},
   "outputs": [],
   "source": []
  },
  {
   "cell_type": "code",
   "execution_count": null,
   "id": "fc2dbfb9",
   "metadata": {},
   "outputs": [],
   "source": []
  },
  {
   "cell_type": "code",
   "execution_count": null,
   "id": "9eb4ef6f",
   "metadata": {},
   "outputs": [],
   "source": []
  }
 ],
 "metadata": {
  "kernelspec": {
   "display_name": "Python 3 (ipykernel)",
   "language": "python",
   "name": "python3"
  },
  "language_info": {
   "codemirror_mode": {
    "name": "ipython",
    "version": 3
   },
   "file_extension": ".py",
   "mimetype": "text/x-python",
   "name": "python",
   "nbconvert_exporter": "python",
   "pygments_lexer": "ipython3",
   "version": "3.10.9"
  }
 },
 "nbformat": 4,
 "nbformat_minor": 5
}
